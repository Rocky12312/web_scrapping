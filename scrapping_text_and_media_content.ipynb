{
 "cells": [
  {
   "cell_type": "code",
   "execution_count": 1,
   "metadata": {},
   "outputs": [],
   "source": [
    "#Importing all the necessary required libraries\n",
    "import re\n",
    "import os\n",
    "import random\n",
    "import requests\n",
    "import time\n",
    "from bs4 import BeautifulSoup\n",
    "from selenium import webdriver\n",
    "from urllib.parse import urlparse"
   ]
  },
  {
   "cell_type": "code",
   "execution_count": 2,
   "metadata": {},
   "outputs": [],
   "source": [
    "from selenium import webdriver\n",
    "browser = webdriver.Firefox(executable_path = \"/home/bluebrain/Documents/project_folder/Web_scrapper/geckodriver.exe\")"
   ]
  },
  {
   "cell_type": "markdown",
   "metadata": {},
   "source": [
    "The first step in web scraping is to navigate to the target website and download the source code of the web page.\n",
    "Once we have downloaded the source code of the webpage, we need to filter the contents that we need:"
   ]
  },
  {
   "cell_type": "code",
   "execution_count": 3,
   "metadata": {},
   "outputs": [],
   "source": [
    "#So basically what we have to do is change the link in the automated web browser after linkedin.com with /uas/login\n",
    "#We have to inspect the web page of login to see the id of the part which contain email and password\n",
    "#So on inspecting what we get is that id of email is username and that of password is password\n",
    "#Loading the web page of login\n",
    "browser.get(\"https://www.linkedin.com/uas/login\")"
   ]
  },
  {
   "cell_type": "code",
   "execution_count": 4,
   "metadata": {},
   "outputs": [],
   "source": [
    "#Now opening the config.txt file and getting the email and password out of it into username and password\n",
    "f = open(\"config.txt\")\n",
    "lines = f.readlines()\n",
    "username = lines[0]\n",
    "password = lines[1]"
   ]
  },
  {
   "cell_type": "markdown",
   "metadata": {},
   "source": [
    "For logging in into the linkedin using automated software"
   ]
  },
  {
   "cell_type": "code",
   "execution_count": 5,
   "metadata": {},
   "outputs": [],
   "source": [
    "#Now finding the element with id equal username in inspect element\n",
    "elementId = browser.find_element_by_id(\"username\")\n",
    "elementId.send_keys(username)"
   ]
  },
  {
   "cell_type": "code",
   "execution_count": 6,
   "metadata": {},
   "outputs": [],
   "source": [
    "#Now finding the element with id equal password in inspect element\n",
    "elementId = browser.find_element_by_id(\"password\")\n",
    "elementId.send_keys(password)"
   ]
  },
  {
   "cell_type": "code",
   "execution_count": 7,
   "metadata": {},
   "outputs": [],
   "source": [
    "#Summitting the keys\n",
    "elementId.submit()"
   ]
  },
  {
   "cell_type": "code",
   "execution_count": 8,
   "metadata": {},
   "outputs": [],
   "source": [
    "#p_id is basically the profile id which we want to visit for gatehering information of its connections or say his informatiom\n",
    "p_id = \"/in/sourabh-choudhary-849029179/\"\n",
    "#f_id is full profile id\n",
    "f_id = \"https://www.linkedin.com\"+p_id\n",
    "#using browser the get the profile web page\n",
    "browser.get(f_id)"
   ]
  },
  {
   "cell_type": "code",
   "execution_count": 9,
   "metadata": {},
   "outputs": [],
   "source": [
    "#This we are doing is because it is not initially loading the full profile(so we will be scrolling the profile till end)\n",
    "#scrolling the full web page\n",
    "scroll_pause_time = 5\n",
    "#getting the scroll height\n",
    "last_height = browser.execute_script(\"window.scrollTo(0,document.body.scrollHeight)\")\n",
    "for i in range(3):\n",
    "    #scroll down to bottom\n",
    "    browser.execute_script(\"window.scrollTo(0,document.body.scrollHeight)\")\n",
    "    #wait to load page\n",
    "    time.sleep(scroll_pause_time)\n",
    "    #calculating the new scroll height and comparing with previous scroll height\n",
    "    new_height = browser.execute_script(\"return document.body.scrollHeight\")\n",
    "    if new_height == last_height:\n",
    "        break\n",
    "    last_height = new_height"
   ]
  },
  {
   "cell_type": "code",
   "execution_count": 10,
   "metadata": {},
   "outputs": [],
   "source": [
    "#Now getting the page source(full page source)\n",
    "source = browser.page_source"
   ]
  },
  {
   "cell_type": "code",
   "execution_count": 11,
   "metadata": {},
   "outputs": [],
   "source": [
    "#passing the source into beautifulsoup object and the parser is lxml\n",
    "soup = BeautifulSoup(source,\"lxml\")"
   ]
  },
  {
   "cell_type": "code",
   "execution_count": 12,
   "metadata": {},
   "outputs": [
    {
     "data": {
      "text/plain": [
       "[<div class=\"flex-1 mr5\">\n",
       " <ul class=\"pv-top-card--list inline-flex align-items-center\">\n",
       " <li class=\"inline t-24 t-black t-normal break-words\">\n",
       "             Sourabh Choudhary\n",
       "           </li>\n",
       " <!-- --> <li class=\"inline-flex ml2\">\n",
       " <span class=\"pv-member-badge--for-top-card inline-flex pv-member-badge ember-view\" id=\"ember75\" style=\"display: none;\"><!-- -->\n",
       " <!-- -->\n",
       " <span class=\"visually-hidden\">\n",
       "   Sourabh has a  account\n",
       " </span>\n",
       " <!-- --></span>\n",
       " </li>\n",
       " </ul>\n",
       " <h2 class=\"mt1 t-18 t-black t-normal\">\n",
       "             Student at IIIT UNA\n",
       "           </h2>\n",
       " <ul class=\"pv-top-card--list pv-top-card--list-bullet mt1\">\n",
       " <li class=\"t-16 t-black t-normal inline-block\">\n",
       "               Muzaffarnagar, Uttar Pradesh, India\n",
       "             </li>\n",
       " <!-- -->\n",
       " <li class=\"inline-block\">\n",
       " <a class=\"ember-view\" data-control-name=\"topcard_view_all_connections\" href=\"/search/results/people/?facetNetwork=%5B%22F%22%5D&amp;origin=MEMBER_PROFILE_CANNED_SEARCH\" id=\"ember76\"> <span class=\"t-16 t-bold\">\n",
       "                     138 connections\n",
       "                   </span>\n",
       " </a> </li>\n",
       " <li class=\"inline-block\">\n",
       " <a class=\"ember-view\" data-control-name=\"contact_see_more\" href=\"/in/sourabh-choudhary-849029179/detail/contact-info/\" id=\"ember77\"> <span class=\"t-16 t-bold\">\n",
       "                 Contact info\n",
       "               </span>\n",
       " </a> </li>\n",
       " </ul>\n",
       " </div>]"
      ]
     },
     "execution_count": 12,
     "metadata": {},
     "output_type": "execute_result"
    }
   ],
   "source": [
    "#Now basically inspecting the whole page(using inspect option) to get the specific data what we need from the web page\n",
    "#We will be looking for the div tag having class flex-1 mr5(as per our need)\n",
    "name_div = soup.find_all(\"div\",{\"class\":\"flex-1 mr5\"})\n",
    "name_div"
   ]
  },
  {
   "cell_type": "code",
   "execution_count": null,
   "metadata": {},
   "outputs": [],
   "source": [
    "#Now basically we are getting all the unordered list\n",
    "name_location = name_div.find_all(\"ul\")\n",
    "#Taking the text content of the list\n",
    "#Basically this name contains the name of the person whose id we are scrapping\n",
    "name = name_location[0].find(\"li\").get_text().strip()\n",
    "location = name_location[1].find(\"li\").get_text().strip()"
   ]
  },
  {
   "cell_type": "code",
   "execution_count": null,
   "metadata": {},
   "outputs": [],
   "source": [
    "#Getting the profile title\n",
    "profile_title = name_div.find(\"h2\").get_text().strip()"
   ]
  },
  {
   "cell_type": "code",
   "execution_count": null,
   "metadata": {},
   "outputs": [],
   "source": [
    "#Getting the no of connections of a person\n",
    "connections = name_location.find_all(\"li\")\n",
    "connections = connections[1].get_text().strip()"
   ]
  },
  {
   "cell_type": "code",
   "execution_count": null,
   "metadata": {},
   "outputs": [],
   "source": [
    "profile_information = []\n",
    "#appending all the information into the profile_information\n",
    "a = [name,location,profile_title,connections]\n",
    "for i in range(len(a)):\n",
    "    profile_information.append(a[i])"
   ]
  },
  {
   "cell_type": "markdown",
   "metadata": {},
   "source": [
    "This is basically the way we scrap data from websites(some more clever techniques can also be applied like getting all the links of profile_ids and running a loop for all the profile ids and performing the same operations as we did on all of them to collect the data)"
   ]
  },
  {
   "cell_type": "markdown",
   "metadata": {},
   "source": [
    "Scrapping the image content from a website"
   ]
  },
  {
   "cell_type": "code",
   "execution_count": 14,
   "metadata": {},
   "outputs": [
    {
     "name": "stdout",
     "output_type": "stream",
     "text": [
      "Number of Images:  59\n",
      "<img alt=\"Loading Screen\" onload=\"pagespeed.CriticalImages.checkImageForCriticality(this);\" pagespeed_url_hash=\"2129554552\" src=\"https://gos3.ibcdn.com/screen-loader-1568375554.png\" style=\"width: auto; height: 175px; margin: 25px auto;\"/>\n",
      "<img onload=\"pagespeed.CriticalImages.checkImageForCriticality(this);\" pagespeed_url_hash=\"753931433\" src=\"//goibibo.ibcdn.com/styleguide/images/goLogo.png\"/>\n",
      "<img alt=\"irctc train logo\" class=\"marginT5 marginB5\" height=\"25px\" onload=\"pagespeed.CriticalImages.checkImageForCriticality(this);\" pagespeed_url_hash=\"3286845901\" src=\"/styleguide/images/train_logo.png\" width=\"24px\"/>\n",
      "<img class=\"fl\" height=\"23px\" onload=\"pagespeed.CriticalImages.checkImageForCriticality(this);\" pagespeed_url_hash=\"1432842091\" src=\"https://goibibo.ibcdn.com/styleguide/images/goCash-header.png\" width=\"23px\"/>\n",
      "<img alt=\"OYO 1706 Hotel The Alpine Heritage Residency - Mall Road, Shimla, Shimla\" class=\"lazy\" id=\"htl-tile-main-image-9191986948655858497\" onload=\"pagespeed.CriticalImages.checkImageForCriticality(this);\" ori=\"https://cdn1.goibibo.com/image/fetch/t_g_ing_v8/f_jpg/https://gos3.ibcdn.com/a651a8c2d53b11e9ba7d0242ac110003.jpg\" pagespeed_url_hash=\"336671501\" src=\"https://cdn1.goibibo.com/image/fetch/t_g_ing_v8/f_jpg/https://gos3.ibcdn.com/a651a8c2d53b11e9ba7d0242ac110003.jpg\"/>\n",
      "<img alt=\"Hotel Images\" class=\"lazy htl-tile-gallery-image\" fsi=\"https://cdn1.goibibo.com/image/fetch/t_g3_ing_v9/f_jpg/https://gos3.ibcdn.com/15e41de6d53c11e99dee0242ac11000b.jpg\" htl=\"9191986948655858497\" onload=\"pagespeed.CriticalImages.checkImageForCriticality(this);\" pagespeed_url_hash=\"2225133647\" src=\"https://cdn1.goibibo.com/image/fetch/t_r_v3/f_jpg/https://gos3.ibcdn.com/15e41de6d53c11e99dee0242ac11000b.jpg\"/>\n",
      "<img alt=\"Hotel Images\" class=\"lazy htl-tile-gallery-image\" fsi=\"https://cdn1.goibibo.com/image/fetch/t_g3_ing_v9/f_jpg/https://gos3.ibcdn.com/9fe9700c5e1411eaae740242ac110004.jpg\" htl=\"9191986948655858497\" onload=\"pagespeed.CriticalImages.checkImageForCriticality(this);\" pagespeed_url_hash=\"2831628391\" src=\"https://cdn1.goibibo.com/image/fetch/t_r_v3/f_jpg/https://gos3.ibcdn.com/9fe9700c5e1411eaae740242ac110004.jpg\"/>\n",
      "<img alt=\"Hotel Images\" class=\"lazy htl-tile-gallery-image\" fsi=\"https://cdn1.goibibo.com/image/fetch/t_g3_ing_v9/f_jpg/https://gos3.ibcdn.com/236a8bd21fe511ea81df0242ac110002.jpg\" htl=\"9191986948655858497\" onload=\"pagespeed.CriticalImages.checkImageForCriticality(this);\" pagespeed_url_hash=\"1108982444\" src=\"https://cdn1.goibibo.com/image/fetch/t_r_v3/f_jpg/https://gos3.ibcdn.com/236a8bd21fe511ea81df0242ac110002.jpg\"/>\n",
      "<img alt=\"Hotel Images\" class=\"lazy htl-tile-gallery-image\" fsi=\"https://cdn1.goibibo.com/image/fetch/t_g3_ing_v9/f_jpg/https://gos3.ibcdn.com/a651a8c2d53b11e9ba7d0242ac110003.jpg\" htl=\"9191986948655858497\" onload=\"pagespeed.CriticalImages.checkImageForCriticality(this);\" pagespeed_url_hash=\"1896723420\" src=\"https://cdn1.goibibo.com/image/fetch/t_r_v3/f_jpg/https://gos3.ibcdn.com/a651a8c2d53b11e9ba7d0242ac110003.jpg\"/>\n",
      "<img alt=\"Hotel Images\" class=\"lazy htl-tile-gallery-image\" fsi=\"https://cdn1.goibibo.com/image/fetch/t_g3_ing_v9/f_jpg/https://gos3.ibcdn.com/04c0fe08d53c11e99cf60242ac11000b.jpg\" htl=\"9191986948655858497\" onload=\"pagespeed.CriticalImages.checkImageForCriticality(this);\" pagespeed_url_hash=\"3404272959\" src=\"https://cdn1.goibibo.com/image/fetch/t_r_v3/f_jpg/https://gos3.ibcdn.com/04c0fe08d53c11e99cf60242ac11000b.jpg\"/>\n",
      "<img alt=\"OYO 24660 Mahasu Villa - Kalka Shimla Highway, Shimla\" class=\"lazy\" id=\"htl-tile-main-image-3036188767901277709\" onload=\"pagespeed.CriticalImages.checkImageForCriticality(this);\" ori=\"https://cdn1.goibibo.com/t_g_ing_v8/oyo-24660-mahasu-villa-shimla-1-classic-room-159110214745-orijgp.jpg\" pagespeed_url_hash=\"3459630308\" src=\"https://cdn1.goibibo.com/t_g_ing_v8/oyo-24660-mahasu-villa-shimla-1-classic-room-159110214745-orijgp.jpg\"/>\n",
      "<img alt=\"Hotel Images\" class=\"lazy htl-tile-gallery-image\" fsi=\"https://cdn1.goibibo.com/t_g3_ing_v9/oyo-24660-mahasu-villa-shimla-27-reception-159110404176-orijgp.jpg\" htl=\"3036188767901277709\" onload=\"pagespeed.CriticalImages.checkImageForCriticality(this);\" pagespeed_url_hash=\"241193817\" src=\"https://cdn1.goibibo.com/t_r_v3/oyo-24660-mahasu-villa-shimla-27-reception-159110404176-orijgp.jpg\"/>\n",
      "<img alt=\"Hotel Images\" class=\"lazy htl-tile-gallery-image\" fsi=\"https://cdn1.goibibo.com/image/fetch/t_g3_ing_v9/f_jpg/https://gos3.ibcdn.com/ad27eed45de111eaad660242ac110007.jpg\" htl=\"3036188767901277709\" onload=\"pagespeed.CriticalImages.checkImageForCriticality(this);\" pagespeed_url_hash=\"889601103\" src=\"https://cdn1.goibibo.com/image/fetch/t_r_v3/f_jpg/https://gos3.ibcdn.com/ad27eed45de111eaad660242ac110007.jpg\"/>\n",
      "<img alt=\"Hotel Images\" class=\"lazy htl-tile-gallery-image\" fsi=\"https://cdn1.goibibo.com/t_g3_ing_v9/oyo-24660-mahasu-villa-shimla-23-facade-159110365262-orijgp.jpg\" htl=\"3036188767901277709\" onload=\"pagespeed.CriticalImages.checkImageForCriticality(this);\" pagespeed_url_hash=\"1901784730\" src=\"https://cdn1.goibibo.com/t_r_v3/oyo-24660-mahasu-villa-shimla-23-facade-159110365262-orijgp.jpg\"/>\n",
      "<img alt=\"Hotel Images\" class=\"lazy htl-tile-gallery-image\" fsi=\"https://cdn1.goibibo.com/t_g3_ing_v9/oyo-24660-mahasu-villa-shimla-1-classic-room-159110214745-orijgp.jpg\" htl=\"3036188767901277709\" onload=\"pagespeed.CriticalImages.checkImageForCriticality(this);\" pagespeed_url_hash=\"3038551401\" src=\"https://cdn1.goibibo.com/t_r_v3/oyo-24660-mahasu-villa-shimla-1-classic-room-159110214745-orijgp.jpg\"/>\n",
      "<img alt=\"Hotel Images\" class=\"lazy htl-tile-gallery-image\" fsi=\"https://cdn1.goibibo.com/t_g3_ing_v9/oyo-24660-mahasu-villa-shimla-32-washroom-159110430455-orijgp.jpg\" htl=\"3036188767901277709\" onload=\"pagespeed.CriticalImages.checkImageForCriticality(this);\" pagespeed_url_hash=\"1171102113\" src=\"https://cdn1.goibibo.com/t_r_v3/oyo-24660-mahasu-villa-shimla-32-washroom-159110430455-orijgp.jpg\"/>\n",
      "<img alt=\"OYO 22750 Shorya Regency - Mall Road, Shimla, Shimla\" class=\"lazy\" id=\"htl-tile-main-image-6950680197781245899\" onload=\"pagespeed.CriticalImages.checkImageForCriticality(this);\" ori=\"https://cdn1.goibibo.com/t_g_ing_v8/oyo-22750-shorya-regency-shimla-4__room__classic-170557466471-orijgp.jpg\" pagespeed_url_hash=\"253933922\" src=\"https://cdn1.goibibo.com/t_g_ing_v8/oyo-22750-shorya-regency-shimla-4__room__classic-170557466471-orijgp.jpg\"/>\n",
      "<img alt=\"Hotel Images\" class=\"lazy htl-tile-gallery-image\" fsi=\"https://cdn1.goibibo.com/t_g3_ing_v9/oyo-22750-shorya-regency-shimla-40__reception-170557655323-orijgp.jpg\" htl=\"6950680197781245899\" onload=\"pagespeed.CriticalImages.checkImageForCriticality(this);\" pagespeed_url_hash=\"4248138553\" src=\"https://cdn1.goibibo.com/t_r_v3/oyo-22750-shorya-regency-shimla-40__reception-170557655323-orijgp.jpg\"/>\n",
      "<img alt=\"Hotel Images\" class=\"lazy htl-tile-gallery-image\" fsi=\"https://cdn1.goibibo.com/t_g3_ing_v9/oyo-22750-shorya-regency-shimla-43__corridor-170557672769-orijgp.jpg\" htl=\"6950680197781245899\" onload=\"pagespeed.CriticalImages.checkImageForCriticality(this);\" pagespeed_url_hash=\"2116026374\" src=\"https://cdn1.goibibo.com/t_r_v3/oyo-22750-shorya-regency-shimla-43__corridor-170557672769-orijgp.jpg\"/>\n",
      "<img alt=\"Hotel Images\" class=\"lazy htl-tile-gallery-image\" fsi=\"https://cdn1.goibibo.com/image/fetch/t_g3_ing_v9/f_jpg/https://gos3.ibcdn.com/f5013fd2209a11eaae5a0242ac110002.jpg\" htl=\"6950680197781245899\" onload=\"pagespeed.CriticalImages.checkImageForCriticality(this);\" pagespeed_url_hash=\"3334559255\" src=\"https://cdn1.goibibo.com/image/fetch/t_r_v3/f_jpg/https://gos3.ibcdn.com/f5013fd2209a11eaae5a0242ac110002.jpg\"/>\n",
      "<img alt=\"Hotel Images\" class=\"lazy htl-tile-gallery-image\" fsi=\"https://cdn1.goibibo.com/t_g3_ing_v9/oyo-22750-shorya-regency-shimla-4__room__classic-170557466471-orijgp.jpg\" htl=\"6950680197781245899\" onload=\"pagespeed.CriticalImages.checkImageForCriticality(this);\" pagespeed_url_hash=\"1381812599\" src=\"https://cdn1.goibibo.com/t_r_v3/oyo-22750-shorya-regency-shimla-4__room__classic-170557466471-orijgp.jpg\"/>\n",
      "<img alt=\"Hotel Images\" class=\"lazy htl-tile-gallery-image\" fsi=\"https://cdn1.goibibo.com/t_g3_ing_v9/oyo-22750-shorya-regency-shimla-45__washroom-170557681420-orijgp.jpg\" htl=\"6950680197781245899\" onload=\"pagespeed.CriticalImages.checkImageForCriticality(this);\" pagespeed_url_hash=\"1594265746\" src=\"https://cdn1.goibibo.com/t_r_v3/oyo-22750-shorya-regency-shimla-45__washroom-170557681420-orijgp.jpg\"/>\n",
      "<img alt=\"OYO 40149 Hotel Divine Point - Mall Road, Shimla, Shimla\" class=\"lazy\" id=\"htl-tile-main-image-9047047789922507199\" onload=\"pagespeed.CriticalImages.checkImageForCriticality(this);\" ori=\"https://cdn1.goibibo.com/t_g_ing_v8/oyo-40149-hotel-divine-point-classic-shimla-11-deluxe__room-170081197350-orijgp.jpg\" pagespeed_url_hash=\"2265087529\" src=\"https://cdn1.goibibo.com/t_g_ing_v8/oyo-40149-hotel-divine-point-classic-shimla-11-deluxe__room-170081197350-orijgp.jpg\"/>\n",
      "<img alt=\"Hotel Images\" class=\"lazy htl-tile-gallery-image\" fsi=\"https://cdn1.goibibo.com/t_g3_ing_v9/oyo-40149-hotel-divine-point-classic-shimla-24-reception-170083008240-orijgp.jpg\" htl=\"9047047789922507199\" onload=\"pagespeed.CriticalImages.checkImageForCriticality(this);\" pagespeed_url_hash=\"31001782\" src=\"https://cdn1.goibibo.com/t_r_v3/oyo-40149-hotel-divine-point-classic-shimla-24-reception-170083008240-orijgp.jpg\"/>\n",
      "<img alt=\"Hotel Images\" class=\"lazy htl-tile-gallery-image\" fsi=\"https://cdn1.goibibo.com/image/fetch/t_g3_ing_v9/f_jpg/https://gos3.ibcdn.com/1a2e9c8a5e1911ea8e340242ac110005.jpg\" htl=\"9047047789922507199\" onload=\"pagespeed.CriticalImages.checkImageForCriticality(this);\" pagespeed_url_hash=\"2220488947\" src=\"https://cdn1.goibibo.com/image/fetch/t_r_v3/f_jpg/https://gos3.ibcdn.com/1a2e9c8a5e1911ea8e340242ac110005.jpg\"/>\n",
      "<img alt=\"Hotel Images\" class=\"lazy htl-tile-gallery-image\" fsi=\"https://cdn1.goibibo.com/t_g3_ing_v9/oyo-40149-hotel-divine-point-classic-shimla-21-facade-170082127465-orijgp.jpg\" htl=\"9047047789922507199\" onload=\"pagespeed.CriticalImages.checkImageForCriticality(this);\" pagespeed_url_hash=\"3332129238\" src=\"https://cdn1.goibibo.com/t_r_v3/oyo-40149-hotel-divine-point-classic-shimla-21-facade-170082127465-orijgp.jpg\"/>\n",
      "<img alt=\"Hotel Images\" class=\"lazy htl-tile-gallery-image\" fsi=\"https://cdn1.goibibo.com/t_g3_ing_v9/oyo-40149-hotel-divine-point-classic-shimla-11-deluxe__room-170081197350-orijgp.jpg\" htl=\"9047047789922507199\" onload=\"pagespeed.CriticalImages.checkImageForCriticality(this);\" pagespeed_url_hash=\"632058176\" src=\"https://cdn1.goibibo.com/t_r_v3/oyo-40149-hotel-divine-point-classic-shimla-11-deluxe__room-170081197350-orijgp.jpg\"/>\n",
      "<img alt=\"Hotel Images\" class=\"lazy htl-tile-gallery-image\" fsi=\"https://cdn1.goibibo.com/t_g3_ing_v9/oyo-40149-hotel-divine-point-classic-shimla-32-washroom-170083254451-orijgp.jpg\" htl=\"9047047789922507199\" onload=\"pagespeed.CriticalImages.checkImageForCriticality(this);\" pagespeed_url_hash=\"912005607\" src=\"https://cdn1.goibibo.com/t_r_v3/oyo-40149-hotel-divine-point-classic-shimla-32-washroom-170083254451-orijgp.jpg\"/>\n",
      "<img alt=\"OYO 45681 Vivek Palace - Mall Road, Shimla, Shimla\" class=\"lazy\" id=\"htl-tile-main-image-8468634016855667632\" onload=\"pagespeed.CriticalImages.checkImageForCriticality(this);\" ori=\"https://cdn1.goibibo.com/image/fetch/t_g_ing_v8/f_jpg/https://gos3.ibcdn.com/549f592eac8311e9bfba0242ac110004.jfif\" pagespeed_url_hash=\"1739845140\" src=\"https://cdn1.goibibo.com/image/fetch/t_g_ing_v8/f_jpg/https://gos3.ibcdn.com/549f592eac8311e9bfba0242ac110004.jfif\"/>\n",
      "<img alt=\"Hotel Images\" class=\"lazy htl-tile-gallery-image\" fsi=\"https://cdn1.goibibo.com/image/fetch/t_g3_ing_v9/f_jpg/https://gos3.ibcdn.com/c96a1744ac8311e9b8390242ac110003.jfif\" htl=\"8468634016855667632\" onload=\"pagespeed.CriticalImages.checkImageForCriticality(this);\" pagespeed_url_hash=\"1753865013\" src=\"https://cdn1.goibibo.com/image/fetch/t_r_v3/f_jpg/https://gos3.ibcdn.com/c96a1744ac8311e9b8390242ac110003.jfif\"/>\n",
      "<img alt=\"Hotel Images\" class=\"lazy htl-tile-gallery-image\" fsi=\"https://cdn1.goibibo.com/image/fetch/t_g3_ing_v9/f_jpg/https://gos3.ibcdn.com/b428051cac8311e9ba530242ac110003.jfif\" htl=\"8468634016855667632\" onload=\"pagespeed.CriticalImages.checkImageForCriticality(this);\" pagespeed_url_hash=\"2402113868\" src=\"https://cdn1.goibibo.com/image/fetch/t_r_v3/f_jpg/https://gos3.ibcdn.com/b428051cac8311e9ba530242ac110003.jfif\"/>\n",
      "<img alt=\"Hotel Images\" class=\"lazy htl-tile-gallery-image\" fsi=\"https://cdn1.goibibo.com/image/fetch/t_g3_ing_v9/f_jpg/https://gos3.ibcdn.com/ca152d14ac8311e9aa6b0242ac110002.jfif\" htl=\"8468634016855667632\" onload=\"pagespeed.CriticalImages.checkImageForCriticality(this);\" pagespeed_url_hash=\"1335154630\" src=\"https://cdn1.goibibo.com/image/fetch/t_r_v3/f_jpg/https://gos3.ibcdn.com/ca152d14ac8311e9aa6b0242ac110002.jfif\"/>\n",
      "<img alt=\"Hotel Images\" class=\"lazy htl-tile-gallery-image\" fsi=\"https://cdn1.goibibo.com/image/fetch/t_g3_ing_v9/f_jpg/https://gos3.ibcdn.com/549f592eac8311e9bfba0242ac110004.jfif\" htl=\"8468634016855667632\" onload=\"pagespeed.CriticalImages.checkImageForCriticality(this);\" pagespeed_url_hash=\"4243183617\" src=\"https://cdn1.goibibo.com/image/fetch/t_r_v3/f_jpg/https://gos3.ibcdn.com/549f592eac8311e9bfba0242ac110004.jfif\"/>\n",
      "<img alt=\"Hotel Images\" class=\"lazy htl-tile-gallery-image\" fsi=\"https://cdn1.goibibo.com/image/fetch/t_g3_ing_v9/f_jpg/https://gos3.ibcdn.com/905ade20ac8311e9a3660242ac110003.jpg\" htl=\"8468634016855667632\" onload=\"pagespeed.CriticalImages.checkImageForCriticality(this);\" pagespeed_url_hash=\"3039944002\" src=\"https://cdn1.goibibo.com/image/fetch/t_r_v3/f_jpg/https://gos3.ibcdn.com/905ade20ac8311e9a3660242ac110003.jpg\"/>\n",
      "<img alt=\"OYO 68234 Unique - Mall Road, Shimla, Shimla\" class=\"lazy\" id=\"htl-tile-main-image-1276386755571602635\" onload=\"pagespeed.CriticalImages.checkImageForCriticality(this);\" ori=\"https://cdn1.goibibo.com/image/fetch/t_g_ing_v8/f_jpg/https://gos3.ibcdn.com/42f49a702ba111ea815f0242ac110007.jpg\" pagespeed_url_hash=\"473948021\" src=\"https://cdn1.goibibo.com/image/fetch/t_g_ing_v8/f_jpg/https://gos3.ibcdn.com/42f49a702ba111ea815f0242ac110007.jpg\"/>\n",
      "<img alt=\"Hotel Images\" class=\"lazy htl-tile-gallery-image\" fsi=\"https://cdn1.goibibo.com/image/fetch/t_g3_ing_v9/f_jpg/https://gos3.ibcdn.com/3ab1bc9e2ba111ea805e0242ac110007.jpg\" htl=\"1276386755571602635\" onload=\"pagespeed.CriticalImages.checkImageForCriticality(this);\" pagespeed_url_hash=\"1510884183\" src=\"https://cdn1.goibibo.com/image/fetch/t_r_v3/f_jpg/https://gos3.ibcdn.com/3ab1bc9e2ba111ea805e0242ac110007.jpg\"/>\n",
      "<img alt=\"Hotel Images\" class=\"lazy htl-tile-gallery-image\" fsi=\"https://cdn1.goibibo.com/image/fetch/t_g3_ing_v9/f_jpg/https://gos3.ibcdn.com/310412b42ba111ea93570242ac110004.jpg\" htl=\"1276386755571602635\" onload=\"pagespeed.CriticalImages.checkImageForCriticality(this);\" pagespeed_url_hash=\"1629051055\" src=\"https://cdn1.goibibo.com/image/fetch/t_r_v3/f_jpg/https://gos3.ibcdn.com/310412b42ba111ea93570242ac110004.jpg\"/>\n",
      "<img alt=\"Hotel Images\" class=\"lazy htl-tile-gallery-image\" fsi=\"https://cdn1.goibibo.com/image/fetch/t_g3_ing_v9/f_jpg/https://gos3.ibcdn.com/42f49a702ba111ea815f0242ac110007.jpg\" htl=\"1276386755571602635\" onload=\"pagespeed.CriticalImages.checkImageForCriticality(this);\" pagespeed_url_hash=\"2033999940\" src=\"https://cdn1.goibibo.com/image/fetch/t_r_v3/f_jpg/https://gos3.ibcdn.com/42f49a702ba111ea815f0242ac110007.jpg\"/>\n",
      "<img alt=\"Hotel Images\" class=\"lazy htl-tile-gallery-image\" fsi=\"https://cdn1.goibibo.com/image/fetch/t_g3_ing_v9/f_jpg/https://gos3.ibcdn.com/0c7b62f62b8011eaaf5b0aec9a8a582c.jpg\" htl=\"1276386755571602635\" onload=\"pagespeed.CriticalImages.checkImageForCriticality(this);\" pagespeed_url_hash=\"1490943732\" src=\"https://cdn1.goibibo.com/image/fetch/t_r_v3/f_jpg/https://gos3.ibcdn.com/0c7b62f62b8011eaaf5b0aec9a8a582c.jpg\"/>\n",
      "<img alt=\"Hotel Images\" class=\"lazy htl-tile-gallery-image\" fsi=\"https://cdn1.goibibo.com/image/fetch/t_g3_ing_v9/f_jpg/https://gos3.ibcdn.com/6af3f39a2ba111ea87610242ac110004.jpg\" htl=\"1276386755571602635\" onload=\"pagespeed.CriticalImages.checkImageForCriticality(this);\" pagespeed_url_hash=\"3951662857\" src=\"https://cdn1.goibibo.com/image/fetch/t_r_v3/f_jpg/https://gos3.ibcdn.com/6af3f39a2ba111ea87610242ac110004.jpg\"/>\n",
      "<img alt=\"OYO Home 24667 Peaceful Stay - The Mall, Shimla, Shimla\" class=\"lazy\" id=\"htl-tile-main-image-2886201449913667608\" onload=\"pagespeed.CriticalImages.checkImageForCriticality(this);\" ori=\"https://cdn1.goibibo.com/t_g_ing_v8/oyo-24632-home-peaceful-stay-panamaram-shimla-1-room-157463486101-orijgp.jpg\" pagespeed_url_hash=\"470023502\" src=\"https://cdn1.goibibo.com/t_g_ing_v8/oyo-24632-home-peaceful-stay-panamaram-shimla-1-room-157463486101-orijgp.jpg\"/>\n",
      "<img alt=\"Hotel Images\" class=\"lazy htl-tile-gallery-image\" fsi=\"https://cdn1.goibibo.com/t_g3_ing_v9/oyo-24632-home-peaceful-stay-panamaram-shimla-1-room-157463486101-orijgp.jpg\" htl=\"2886201449913667608\" onload=\"pagespeed.CriticalImages.checkImageForCriticality(this);\" pagespeed_url_hash=\"3915579891\" src=\"https://cdn1.goibibo.com/t_r_v3/oyo-24632-home-peaceful-stay-panamaram-shimla-1-room-157463486101-orijgp.jpg\"/>\n",
      "<img alt=\"Hotel Images\" class=\"lazy htl-tile-gallery-image\" fsi=\"https://cdn1.goibibo.com/t_g3_ing_v9/oyo-24632-home-peaceful-stay-panamaram-shimla-29-washroom-157463491845-orijgp.jpg\" htl=\"2886201449913667608\" onload=\"pagespeed.CriticalImages.checkImageForCriticality(this);\" pagespeed_url_hash=\"3593374555\" src=\"https://cdn1.goibibo.com/t_r_v3/oyo-24632-home-peaceful-stay-panamaram-shimla-29-washroom-157463491845-orijgp.jpg\"/>\n",
      "<img alt=\"Hotel Images\" class=\"lazy htl-tile-gallery-image\" fsi=\"https://cdn1.goibibo.com/t_g3_ing_v9/oyo-24632-home-peaceful-stay-panamaram-shimla-facade-156539080353-orijgp.jpg\" htl=\"2886201449913667608\" onload=\"pagespeed.CriticalImages.checkImageForCriticality(this);\" pagespeed_url_hash=\"1888324882\" src=\"https://cdn1.goibibo.com/t_r_v3/oyo-24632-home-peaceful-stay-panamaram-shimla-facade-156539080353-orijgp.jpg\"/>\n",
      "<img alt=\"Hotel Images\" class=\"lazy htl-tile-gallery-image\" fsi=\"https://cdn1.goibibo.com/t_g3_ing_v9/oyo-24632-home-peaceful-stay-panamaram-shimla-scenic-view-156539070230-orijgp.jpg\" htl=\"2886201449913667608\" onload=\"pagespeed.CriticalImages.checkImageForCriticality(this);\" pagespeed_url_hash=\"2656255978\" src=\"https://cdn1.goibibo.com/t_r_v3/oyo-24632-home-peaceful-stay-panamaram-shimla-scenic-view-156539070230-orijgp.jpg\"/>\n",
      "<img alt=\"OYO Home 19006 Elegant Stay - Bharari Ghat, Shimla\" class=\"lazy\" id=\"htl-tile-main-image-8013369977361463307\" onload=\"pagespeed.CriticalImages.checkImageForCriticality(this);\" ori=\"https://cdn1.goibibo.com/t_g_ing_v8/oyo-19006-home-snow-valley-2bhk-apartment-shimla-2-room-153670878728-orijgp.jpg\" pagespeed_url_hash=\"709734132\" src=\"https://cdn1.goibibo.com/t_g_ing_v8/oyo-19006-home-snow-valley-2bhk-apartment-shimla-2-room-153670878728-orijgp.jpg\"/>\n",
      "<img alt=\"Honeymoon Inn - The Mall Road, Shimla\" class=\"lazy\" id=\"htl-tile-main-image-2866704395127249073\" onload=\"pagespeed.CriticalImages.checkImageForCriticality(this);\" ori=\"https://cdn1.goibibo.com/image/fetch/t_g_ing_v8/f_jpg/https://gos3.ibcdn.com/40d947722d1d11e5b0b736cfdd80c293.jfif\" pagespeed_url_hash=\"4230179655\" src=\"https://cdn1.goibibo.com/image/fetch/t_g_ing_v8/f_jpg/https://gos3.ibcdn.com/40d947722d1d11e5b0b736cfdd80c293.jfif\"/>\n",
      "<img alt=\"Hotel Images\" class=\"lazy htl-tile-gallery-image\" fsi=\"https://cdn1.goibibo.com/t_g3_ing_v9/honeymoon-inn-shimla-romantic-rain-shower-153583627267-orijgp.jpg\" htl=\"2866704395127249073\" onload=\"pagespeed.CriticalImages.checkImageForCriticality(this);\" pagespeed_url_hash=\"956381288\" src=\"https://cdn1.goibibo.com/t_r_v3/honeymoon-inn-shimla-romantic-rain-shower-153583627267-orijgp.jpg\"/>\n",
      "<img alt=\"Hotel Images\" class=\"lazy htl-tile-gallery-image\" fsi=\"https://cdn1.goibibo.com/image/fetch/t_g3_ing_v9/f_jpg/https://gos3.ibcdn.com/b33047082d3b11e599595ee5da2daa2a.jfif\" htl=\"2866704395127249073\" onload=\"pagespeed.CriticalImages.checkImageForCriticality(this);\" pagespeed_url_hash=\"640264770\" src=\"https://cdn1.goibibo.com/image/fetch/t_r_v3/f_jpg/https://gos3.ibcdn.com/b33047082d3b11e599595ee5da2daa2a.jfif\"/>\n",
      "<img alt=\"Hotel Images\" class=\"lazy htl-tile-gallery-image\" fsi=\"https://cdn1.goibibo.com/t_g3_ing_v9/honeymoon-inn-shimla-extrerior-115212915425-orijgp.jpg\" htl=\"2866704395127249073\" onload=\"pagespeed.CriticalImages.checkImageForCriticality(this);\" pagespeed_url_hash=\"2166458808\" src=\"https://cdn1.goibibo.com/t_r_v3/honeymoon-inn-shimla-extrerior-115212915425-orijgp.jpg\"/>\n",
      "<img alt=\"Hotel Images\" class=\"lazy htl-tile-gallery-image\" fsi=\"https://cdn1.goibibo.com/image/fetch/t_g3_ing_v9/f_jpg/https://gos3.ibcdn.com/f5107dbc2d3811e5b5bf5ee5da2daa2a.jfif\" htl=\"2866704395127249073\" onload=\"pagespeed.CriticalImages.checkImageForCriticality(this);\" pagespeed_url_hash=\"2515988026\" src=\"https://cdn1.goibibo.com/image/fetch/t_r_v3/f_jpg/https://gos3.ibcdn.com/f5107dbc2d3811e5b5bf5ee5da2daa2a.jfif\"/>\n",
      "<img alt=\"Hotel Images\" class=\"lazy htl-tile-gallery-image\" fsi=\"https://cdn1.goibibo.com/image/fetch/t_g3_ing_v9/f_jpg/https://gos3.ibcdn.com/384c83cc2d2111e5b4630022195573b9.jfif\" htl=\"2866704395127249073\" onload=\"pagespeed.CriticalImages.checkImageForCriticality(this);\" pagespeed_url_hash=\"56440420\" src=\"https://cdn1.goibibo.com/image/fetch/t_r_v3/f_jpg/https://gos3.ibcdn.com/384c83cc2d2111e5b4630022195573b9.jfif\"/>\n",
      "<img alt=\"Clifton House - Shoghi, Shimla\" class=\"lazy\" id=\"htl-tile-main-image-2668930289000053794\" onload=\"pagespeed.CriticalImages.checkImageForCriticality(this);\" ori=\"https://cdn1.goibibo.com/image/fetch/t_g_ing_v8/f_jpg/https://gos3.ibcdn.com/6905ebd8344811ea97050242ac110003.jfif\" pagespeed_url_hash=\"850059167\" src=\"https://cdn1.goibibo.com/image/fetch/t_g_ing_v8/f_jpg/https://gos3.ibcdn.com/6905ebd8344811ea97050242ac110003.jfif\"/>\n",
      "<img alt=\"Hotel Images\" class=\"lazy htl-tile-gallery-image\" fsi=\"https://cdn1.goibibo.com/image/fetch/t_g3_ing_v9/f_jpg/https://gos3.ibcdn.com/6905ebd8344811ea97050242ac110003.jfif\" htl=\"2668930289000053794\" onload=\"pagespeed.CriticalImages.checkImageForCriticality(this);\" pagespeed_url_hash=\"3353397644\" src=\"https://cdn1.goibibo.com/image/fetch/t_r_v3/f_jpg/https://gos3.ibcdn.com/6905ebd8344811ea97050242ac110003.jfif\"/>\n",
      "<img alt=\"Hotel Images\" class=\"lazy htl-tile-gallery-image\" fsi=\"https://cdn1.goibibo.com/t_g3_ing_v9/clifton-house-shimla-dsc_2500-167844784501-orijgp.jpg\" htl=\"2668930289000053794\" onload=\"pagespeed.CriticalImages.checkImageForCriticality(this);\" pagespeed_url_hash=\"2316111147\" src=\"https://cdn1.goibibo.com/t_r_v3/clifton-house-shimla-dsc_2500-167844784501-orijgp.jpg\"/>\n",
      "<img alt=\"Hotel Images\" class=\"lazy htl-tile-gallery-image\" fsi=\"https://cdn1.goibibo.com/image/fetch/t_g3_ing_v9/f_jpg/https://gos3.ibcdn.com/79e40b38e35311e988c80242ac110002.jfif\" htl=\"2668930289000053794\" onload=\"pagespeed.CriticalImages.checkImageForCriticality(this);\" pagespeed_url_hash=\"254217693\" src=\"https://cdn1.goibibo.com/image/fetch/t_r_v3/f_jpg/https://gos3.ibcdn.com/79e40b38e35311e988c80242ac110002.jfif\"/>\n",
      "<img alt=\"Hotel Images\" class=\"lazy htl-tile-gallery-image\" fsi=\"https://cdn1.goibibo.com/t_g3_ing_v9/clifton-house-shimla-105-168697964532-orijgp.jpg\" htl=\"2668930289000053794\" onload=\"pagespeed.CriticalImages.checkImageForCriticality(this);\" pagespeed_url_hash=\"2534001110\" src=\"https://cdn1.goibibo.com/t_r_v3/clifton-house-shimla-105-168697964532-orijgp.jpg\"/>\n",
      "<img alt=\"Hotel Images\" class=\"lazy htl-tile-gallery-image\" fsi=\"https://cdn1.goibibo.com/t_g3_ing_v9/clifton-house-shimla-dsc_2650-167845591629-orijgp.jpg\" htl=\"2668930289000053794\" onload=\"pagespeed.CriticalImages.checkImageForCriticality(this);\" pagespeed_url_hash=\"1144389137\" src=\"https://cdn1.goibibo.com/t_r_v3/clifton-house-shimla-dsc_2650-167845591629-orijgp.jpg\"/>\n",
      "<img alt=\"loading\" class=\"load-img\" id=\"search-load-img\" onload=\"pagespeed.CriticalImages.checkImageForCriticality(this);\" pagespeed_url_hash=\"78805716\" src=\"https://gos3.ibcdn.com/hotel-loader-min-1489755341.gif\"/>\n"
     ]
    }
   ],
   "source": [
    "#Scrapping the images from a hotel website\n",
    "#First abd foremost thing is to check whether scrapping is allowed or not\n",
    "# target URL\n",
    "url = \"https://www.goibibo.com/hotels/hotels-in-shimla-ct/\"\n",
    "\n",
    "response = requests.request(\"GET\", url)\n",
    "\n",
    "data = BeautifulSoup(response.text, 'html.parser')\n",
    "\n",
    "#find all with the image tag from the source cose\n",
    "images = data.find_all('img', src=True)\n",
    "#printing the number of images\n",
    "print('Number of Images: ', len(images))\n",
    "\n",
    "for image in images:\n",
    "    print(image)"
   ]
  },
  {
   "cell_type": "code",
   "execution_count": 16,
   "metadata": {},
   "outputs": [
    {
     "name": "stdout",
     "output_type": "stream",
     "text": [
      "https://cdn1.goibibo.com/image/fetch/t_g_ing_v8/f_jpg/https://gos3.ibcdn.com/a651a8c2d53b11e9ba7d0242ac110003.jpg\n",
      "https://cdn1.goibibo.com/image/fetch/t_r_v3/f_jpg/https://gos3.ibcdn.com/15e41de6d53c11e99dee0242ac11000b.jpg\n",
      "https://cdn1.goibibo.com/image/fetch/t_r_v3/f_jpg/https://gos3.ibcdn.com/9fe9700c5e1411eaae740242ac110004.jpg\n",
      "https://cdn1.goibibo.com/image/fetch/t_r_v3/f_jpg/https://gos3.ibcdn.com/236a8bd21fe511ea81df0242ac110002.jpg\n",
      "https://cdn1.goibibo.com/image/fetch/t_r_v3/f_jpg/https://gos3.ibcdn.com/a651a8c2d53b11e9ba7d0242ac110003.jpg\n",
      "https://cdn1.goibibo.com/image/fetch/t_r_v3/f_jpg/https://gos3.ibcdn.com/04c0fe08d53c11e99cf60242ac11000b.jpg\n",
      "https://cdn1.goibibo.com/t_g_ing_v8/oyo-24660-mahasu-villa-shimla-1-classic-room-159110214745-orijgp.jpg\n",
      "https://cdn1.goibibo.com/t_r_v3/oyo-24660-mahasu-villa-shimla-27-reception-159110404176-orijgp.jpg\n",
      "https://cdn1.goibibo.com/image/fetch/t_r_v3/f_jpg/https://gos3.ibcdn.com/ad27eed45de111eaad660242ac110007.jpg\n",
      "https://cdn1.goibibo.com/t_r_v3/oyo-24660-mahasu-villa-shimla-23-facade-159110365262-orijgp.jpg\n",
      "https://cdn1.goibibo.com/t_r_v3/oyo-24660-mahasu-villa-shimla-1-classic-room-159110214745-orijgp.jpg\n",
      "https://cdn1.goibibo.com/t_r_v3/oyo-24660-mahasu-villa-shimla-32-washroom-159110430455-orijgp.jpg\n",
      "https://cdn1.goibibo.com/t_g_ing_v8/oyo-22750-shorya-regency-shimla-4__room__classic-170557466471-orijgp.jpg\n",
      "https://cdn1.goibibo.com/t_r_v3/oyo-22750-shorya-regency-shimla-40__reception-170557655323-orijgp.jpg\n",
      "https://cdn1.goibibo.com/t_r_v3/oyo-22750-shorya-regency-shimla-43__corridor-170557672769-orijgp.jpg\n",
      "https://cdn1.goibibo.com/image/fetch/t_r_v3/f_jpg/https://gos3.ibcdn.com/f5013fd2209a11eaae5a0242ac110002.jpg\n",
      "https://cdn1.goibibo.com/t_r_v3/oyo-22750-shorya-regency-shimla-4__room__classic-170557466471-orijgp.jpg\n",
      "https://cdn1.goibibo.com/t_r_v3/oyo-22750-shorya-regency-shimla-45__washroom-170557681420-orijgp.jpg\n",
      "https://cdn1.goibibo.com/t_g_ing_v8/oyo-40149-hotel-divine-point-classic-shimla-11-deluxe__room-170081197350-orijgp.jpg\n",
      "https://cdn1.goibibo.com/t_r_v3/oyo-40149-hotel-divine-point-classic-shimla-24-reception-170083008240-orijgp.jpg\n",
      "https://cdn1.goibibo.com/image/fetch/t_r_v3/f_jpg/https://gos3.ibcdn.com/1a2e9c8a5e1911ea8e340242ac110005.jpg\n",
      "https://cdn1.goibibo.com/t_r_v3/oyo-40149-hotel-divine-point-classic-shimla-21-facade-170082127465-orijgp.jpg\n",
      "https://cdn1.goibibo.com/t_r_v3/oyo-40149-hotel-divine-point-classic-shimla-11-deluxe__room-170081197350-orijgp.jpg\n",
      "https://cdn1.goibibo.com/t_r_v3/oyo-40149-hotel-divine-point-classic-shimla-32-washroom-170083254451-orijgp.jpg\n",
      "https://cdn1.goibibo.com/image/fetch/t_r_v3/f_jpg/https://gos3.ibcdn.com/905ade20ac8311e9a3660242ac110003.jpg\n",
      "https://cdn1.goibibo.com/image/fetch/t_g_ing_v8/f_jpg/https://gos3.ibcdn.com/42f49a702ba111ea815f0242ac110007.jpg\n",
      "https://cdn1.goibibo.com/image/fetch/t_r_v3/f_jpg/https://gos3.ibcdn.com/3ab1bc9e2ba111ea805e0242ac110007.jpg\n",
      "https://cdn1.goibibo.com/image/fetch/t_r_v3/f_jpg/https://gos3.ibcdn.com/310412b42ba111ea93570242ac110004.jpg\n",
      "https://cdn1.goibibo.com/image/fetch/t_r_v3/f_jpg/https://gos3.ibcdn.com/42f49a702ba111ea815f0242ac110007.jpg\n",
      "https://cdn1.goibibo.com/image/fetch/t_r_v3/f_jpg/https://gos3.ibcdn.com/0c7b62f62b8011eaaf5b0aec9a8a582c.jpg\n",
      "https://cdn1.goibibo.com/image/fetch/t_r_v3/f_jpg/https://gos3.ibcdn.com/6af3f39a2ba111ea87610242ac110004.jpg\n",
      "https://cdn1.goibibo.com/t_g_ing_v8/oyo-24632-home-peaceful-stay-panamaram-shimla-1-room-157463486101-orijgp.jpg\n",
      "https://cdn1.goibibo.com/t_r_v3/oyo-24632-home-peaceful-stay-panamaram-shimla-1-room-157463486101-orijgp.jpg\n",
      "https://cdn1.goibibo.com/t_r_v3/oyo-24632-home-peaceful-stay-panamaram-shimla-29-washroom-157463491845-orijgp.jpg\n",
      "https://cdn1.goibibo.com/t_r_v3/oyo-24632-home-peaceful-stay-panamaram-shimla-facade-156539080353-orijgp.jpg\n",
      "https://cdn1.goibibo.com/t_r_v3/oyo-24632-home-peaceful-stay-panamaram-shimla-scenic-view-156539070230-orijgp.jpg\n",
      "https://cdn1.goibibo.com/t_g_ing_v8/oyo-19006-home-snow-valley-2bhk-apartment-shimla-2-room-153670878728-orijgp.jpg\n",
      "https://cdn1.goibibo.com/t_r_v3/honeymoon-inn-shimla-romantic-rain-shower-153583627267-orijgp.jpg\n",
      "https://cdn1.goibibo.com/t_r_v3/honeymoon-inn-shimla-extrerior-115212915425-orijgp.jpg\n",
      "https://cdn1.goibibo.com/t_r_v3/clifton-house-shimla-dsc_2500-167844784501-orijgp.jpg\n",
      "https://cdn1.goibibo.com/t_r_v3/clifton-house-shimla-105-168697964532-orijgp.jpg\n",
      "https://cdn1.goibibo.com/t_r_v3/clifton-house-shimla-dsc_2650-167845591629-orijgp.jpg\n"
     ]
    }
   ],
   "source": [
    "#select src tag\n",
    "image_src = [x['src'] for x in images]\n",
    "\n",
    "#select only jp format images\n",
    "image_src = [x for x in image_src if x.endswith('.jpg')]\n",
    "\n",
    "for image in image_src:\n",
    "    print(image)"
   ]
  },
  {
   "cell_type": "code",
   "execution_count": 3,
   "metadata": {},
   "outputs": [],
   "source": [
    "image_count = 1\n",
    "for image in image_src:\n",
    "    with open('image_'+str(image_count)+'.jpg', 'wb') as f:\n",
    "        res = requests.get(image)\n",
    "        f.write(res.content)\n",
    "    image_count = image_count+1"
   ]
  },
  {
   "cell_type": "code",
   "execution_count": null,
   "metadata": {},
   "outputs": [],
   "source": []
  }
 ],
 "metadata": {
  "kernelspec": {
   "display_name": "Python 3",
   "language": "python",
   "name": "python3"
  },
  "language_info": {
   "codemirror_mode": {
    "name": "ipython",
    "version": 3
   },
   "file_extension": ".py",
   "mimetype": "text/x-python",
   "name": "python",
   "nbconvert_exporter": "python",
   "pygments_lexer": "ipython3",
   "version": "3.7.4"
  }
 },
 "nbformat": 4,
 "nbformat_minor": 2
}
